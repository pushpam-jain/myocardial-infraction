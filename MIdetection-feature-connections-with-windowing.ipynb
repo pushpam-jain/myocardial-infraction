{
 "cells": [
  {
   "cell_type": "code",
   "execution_count": 1,
   "id": "7690f92e",
   "metadata": {},
   "outputs": [],
   "source": [
    "import numpy as np\n",
    "import pandas as pd\n",
    "import matplotlib.pyplot as plt\n",
    "import wfdb\n",
    "from collections import Counter\n",
    "from sklearn.preprocessing import LabelEncoder\n",
    "from imblearn.over_sampling import SMOTENC\n",
    "from sklearn.model_selection import StratifiedKFold\n"
   ]
  },
  {
   "cell_type": "code",
   "execution_count": 2,
   "id": "336d1fdf",
   "metadata": {},
   "outputs": [],
   "source": [
    "def collect_and_label(dataset): \n",
    "    \n",
    "\n",
    "    df = pd.read_csv(dataset)\n",
    "    alpha = df['scp_codes'].str.split(\"'\").str[1].str[-2:]=='MI'  \n",
    "    beta = df['scp_codes'].str.split(\"'\").str[1]=='NORM'       \n",
    "    df = df[alpha|beta]\n",
    "    df['label'] = df['scp_codes'].str.split(\"'\").str[1]      \n",
    "      \n",
    "    inst_c1 = df[df['label'] == 'NORM']\n",
    "    inst_c1 = inst_c1.sample(n = 1000, random_state = 1)\n",
    "    \n",
    "    inst_c2 = df[df['label'] == 'ILMI']\n",
    "    inst_c2 = inst_c2.sample(n = 393, random_state = 1)\n",
    "    \n",
    "\n",
    "    df_new = pd.concat([inst_c1, inst_c2], ignore_index = True)\n",
    "    df_new = df_new.sample(frac = 1, random_state=42)\n",
    "    \n",
    "    return  df_new"
   ]
  },
  {
   "cell_type": "code",
   "execution_count": 3,
   "id": "125817a7",
   "metadata": {},
   "outputs": [],
   "source": [
    "def div_and_label(dataframe):  \n",
    "    \n",
    "    X = dataframe[['ecg_id', 'filename_hr']]   \n",
    "    X = X.to_numpy()\n",
    "    y = dataframe['label']\n",
    "    encoder = LabelEncoder()\n",
    "    encoder.fit(y)\n",
    "    encoded_y = encoder.transform(y)\n",
    "    \n",
    "    return (X, encoded_y)"
   ]
  },
  {
   "cell_type": "code",
   "execution_count": 4,
   "id": "55d0a9d5",
   "metadata": {},
   "outputs": [
    {
     "name": "stdout",
     "output_type": "stream",
     "text": [
      "(1393,)\n",
      "(1393,)\n"
     ]
    }
   ],
   "source": [
    "alpha = collect_and_label(\"C:/Users/Pushpam/Downloads/ptbxl_database.csv\")  \n",
    "gamma0, gamma1 = div_and_label(alpha)\n",
    "gamma0 = gamma0[:,1]\n",
    "\n",
    "print(gamma0.shape)\n",
    "print(gamma1.shape)"
   ]
  },
  {
   "cell_type": "code",
   "execution_count": 5,
   "id": "2ece4cb4",
   "metadata": {},
   "outputs": [
    {
     "name": "stdout",
     "output_type": "stream",
     "text": [
      "['records500/01000/01561_hr' 'records500/17000/17484_hr'\n",
      " 'records500/08000/08857_hr' ... 'records500/03000/03389_hr'\n",
      " 'records500/07000/07602_hr' 'records500/20000/20800_hr']\n"
     ]
    }
   ],
   "source": [
    "print(gamma0)"
   ]
  },
  {
   "cell_type": "code",
   "execution_count": 6,
   "id": "65e58ba7",
   "metadata": {},
   "outputs": [
    {
     "data": {
      "text/plain": [
       "array([1, 0, 1, ..., 0, 1, 0])"
      ]
     },
     "execution_count": 6,
     "metadata": {},
     "output_type": "execute_result"
    }
   ],
   "source": [
    "gamma1"
   ]
  },
  {
   "cell_type": "code",
   "execution_count": 7,
   "id": "773322ca",
   "metadata": {},
   "outputs": [],
   "source": [
    "from scipy import signal\n",
    "import matplotlib.pyplot as plt"
   ]
  },
  {
   "cell_type": "code",
   "execution_count": 8,
   "id": "117aa312",
   "metadata": {},
   "outputs": [],
   "source": [
    "import wfdb\n",
    "import numpy as np\n",
    "import matplotlib.pyplot as plt\n",
    "import neurokit2 as nk\n",
    "from scipy.signal import butter, filtfilt, detrend\n",
    "\n",
    "directory = 'D:/Internship/MIDataset/ptb-xl-a-large-publicly-available-electrocardiography-dataset-1.0.1'\n",
    "\n",
    "X = []\n",
    "for itr in range(gamma0.shape[0]):\n",
    "    record_name = str(gamma0[itr])\n",
    "    \n",
    "    signal, meta_val = wfdb.rdsamp(directory + '/' + record_name)\n",
    "    value = signal.T\n",
    "    ecg_signals = value\n",
    "\n",
    "    X.append(detrend(ecg_signals))\n",
    "    "
   ]
  },
  {
   "cell_type": "code",
   "execution_count": 9,
   "id": "41ebc71a",
   "metadata": {},
   "outputs": [
    {
     "data": {
      "text/plain": [
       "(1393, 12, 5000)"
      ]
     },
     "execution_count": 9,
     "metadata": {},
     "output_type": "execute_result"
    }
   ],
   "source": [
    "X = np.array(X)\n",
    "X.shape"
   ]
  },
  {
   "cell_type": "code",
   "execution_count": 10,
   "id": "b671bc2b",
   "metadata": {},
   "outputs": [
    {
     "name": "stdout",
     "output_type": "stream",
     "text": [
      "(1393,)\n"
     ]
    }
   ],
   "source": [
    "y_data = gamma1;\n",
    "print(y_data.shape)"
   ]
  },
  {
   "cell_type": "code",
   "execution_count": 11,
   "id": "e8aeeee6",
   "metadata": {},
   "outputs": [],
   "source": [
    "# windowing X in xnew\n",
    "# xnew = np.zeros((5*(X.shape[0]),12,1000))\n",
    "xold = X\n",
    "yold = y_data\n",
    "xnew = []\n",
    "ynew = []\n",
    "patient_ids = []\n",
    "for i in range(X.shape[0]):\n",
    "    xnew.append(X[i,:,0:1000])\n",
    "    xnew.append(X[i,:,1000:2000])\n",
    "    xnew.append(X[i,:,2000:3000])\n",
    "    xnew.append(X[i,:,3000:4000])\n",
    "    xnew.append(X[i,:,4000:5000])\n",
    "    for j in range(5):\n",
    "        ynew.append(y_data[i])\n",
    "        patient_ids.append(i)\n",
    "xnew = np.array(xnew)\n",
    "y_data = np.array(ynew)"
   ]
  },
  {
   "cell_type": "code",
   "execution_count": 12,
   "id": "c7fa5c2d",
   "metadata": {},
   "outputs": [],
   "source": [
    "from scipy.signal import coherence\n",
    "from glob import glob\n",
    "import scipy.io as sio\n",
    "import scipy.signal as sig\n",
    "from scipy.signal import coherence, hilbert \n",
    "\n",
    "cross_corr_matrices_list = []\n",
    "coherence_matrices_list = []\n",
    "pli_matrices_list = []\n",
    "plv_matrices_list = []\n",
    "\n",
    "for patient_data in xnew:\n",
    "    cross_corr_matrix = np.zeros((12, 12))\n",
    "    coherence_matrix = np.zeros((12, 12))\n",
    "    pli_matrix = np.zeros((12, 12))\n",
    "    plv_matrix = np.zeros((12, 12))\n",
    "\n",
    "    \n",
    "    for i in range(12):\n",
    "        for j in range(i, 12):\n",
    "            lead_i = patient_data[i]\n",
    "            lead_j = patient_data[j]\n",
    "            \n",
    "            cross_corr = np.corrcoef(lead_i, lead_j)[0, 1]\n",
    "            \n",
    "            f, coh = coherence(lead_i, lead_j)  \n",
    "            coherence_value = np.mean(coh)  # Storing the average coherence value\n",
    "            \n",
    "            \n",
    "            analytic_i = hilbert(lead_i)\n",
    "            analytic_j = hilbert(lead_j)\n",
    "            \n",
    "            phase_i = np.angle(analytic_i)\n",
    "            phase_j = np.angle(analytic_j)\n",
    "                    \n",
    "            phase_diff = phase_i - phase_j\n",
    "              \n",
    "            pli = np.abs(np.mean(np.sign(np.sin(phase_diff))))\n",
    "               \n",
    "            plv = np.abs(np.mean(np.exp(1j * phase_diff)))\n",
    "\n",
    "            cross_corr_matrix[i, j] = cross_corr\n",
    "            cross_corr_matrix[j, i] = cross_corr\n",
    "        \n",
    "            coherence_matrix[i, j] = coherence_value\n",
    "            coherence_matrix[j, i] = coherence_value    \n",
    "            \n",
    "            pli_matrix[i, j] = pli\n",
    "            pli_matrix[j, i] = pli\n",
    "            \n",
    "            plv_matrix[i, j] = plv\n",
    "            plv_matrix[j, i] = plv\n",
    "    \n",
    "    \n",
    "    cross_corr_matrices_list.append(cross_corr_matrix)  \n",
    "    coherence_matrices_list.append(coherence_matrix)\n",
    "    pli_matrices_list.append(pli_matrix)\n",
    "    plv_matrices_list.append(plv_matrix)\n",
    "    \n",
    "def create_K(A_i, B_i, C_i, D_i):\n",
    "    top_row = np.concatenate((A_i, B_i), axis=1)\n",
    "    bottom_row = np.concatenate((C_i, D_i), axis=1)\n",
    "    return np.concatenate((top_row, bottom_row), axis=0)\n",
    "\n",
    "K_matrices=[]\n",
    "for i in range(xnew.shape[0]):\n",
    "    K_i = create_K(cross_corr_matrices_list[i], coherence_matrices_list[i], pli_matrices_list[i], plv_matrices_list[i])\n",
    "    K_matrices.append(K_i)"
   ]
  },
  {
   "cell_type": "code",
   "execution_count": 22,
   "id": "52813df8",
   "metadata": {},
   "outputs": [],
   "source": [
    "# Save the matrices to an .npz file\n",
    "np.savez('matrices_data.npz',\n",
    "         cross_corr=cross_corr_matrices_list,\n",
    "         coherence=coherence_matrices_list,\n",
    "         pli=pli_matrices_list,\n",
    "         plv=plv_matrices_list)"
   ]
  },
  {
   "cell_type": "code",
   "execution_count": 28,
   "id": "e31f460e",
   "metadata": {},
   "outputs": [],
   "source": [
    "np.save(r'ynew_ALMI_800+164_kernels5000.npy', y_data)\n",
    "np.save(r'patient_ids_ILMI_1000+393.npy', patient_ids)"
   ]
  },
  {
   "cell_type": "code",
   "execution_count": null,
   "id": "778a4360",
   "metadata": {},
   "outputs": [],
   "source": [
    "# To load the matrices back in another script, you can use the following code:\n",
    "loaded_data = np.load('matrices_data.npz')\n",
    "cross_corr_loaded = loaded_data['cross_corr']\n",
    "coherence_loaded = loaded_data['coherence']\n",
    "pli_loaded = loaded_data['pli']\n",
    "plv_loaded = loaded_data['plv']"
   ]
  },
  {
   "cell_type": "code",
   "execution_count": 14,
   "id": "c91d452b",
   "metadata": {},
   "outputs": [],
   "source": [
    "def create_K(A_i, B_i, C_i, D_i):\n",
    "    top_row = np.concatenate((A_i, B_i), axis=1)\n",
    "    bottom_row = np.concatenate((C_i, D_i), axis=1)\n",
    "    return np.concatenate((top_row, bottom_row), axis=0)\n",
    "\n",
    "K_matrices=[]\n",
    "for i in range(xnew.shape[0]):\n",
    "    K_i = create_K(cross_corr_matrices_list[i], coherence_matrices_list[i], pli_matrices_list[i], plv_matrices_list[i])\n",
    "    K_matrices.append(K_i)"
   ]
  },
  {
   "cell_type": "code",
   "execution_count": 16,
   "id": "bcf3a953",
   "metadata": {},
   "outputs": [
    {
     "data": {
      "text/plain": [
       "(6965, 24, 24)"
      ]
     },
     "execution_count": 16,
     "metadata": {},
     "output_type": "execute_result"
    }
   ],
   "source": [
    "np.array(K_matrices).shape"
   ]
  },
  {
   "cell_type": "code",
   "execution_count": 27,
   "id": "1db909ab",
   "metadata": {},
   "outputs": [
    {
     "data": {
      "text/plain": [
       "(6965,)"
      ]
     },
     "execution_count": 27,
     "metadata": {},
     "output_type": "execute_result"
    }
   ],
   "source": [
    "y_data.shape"
   ]
  },
  {
   "cell_type": "code",
   "execution_count": 17,
   "id": "d180d196",
   "metadata": {},
   "outputs": [
    {
     "name": "stdout",
     "output_type": "stream",
     "text": [
      "(6965, 24, 24, 1)\n"
     ]
    }
   ],
   "source": [
    "t = np.array(K_matrices).reshape(xnew.shape[0],24,24,1)\n",
    "print(t.shape)"
   ]
  },
  {
   "cell_type": "code",
   "execution_count": 18,
   "id": "7e167b14",
   "metadata": {},
   "outputs": [],
   "source": [
    "from sklearn.model_selection import train_test_split, cross_val_score\n",
    "from sklearn.ensemble import RandomForestClassifier\n",
    "from sklearn.preprocessing import scale"
   ]
  },
  {
   "cell_type": "code",
   "execution_count": 19,
   "id": "2ecc76b2",
   "metadata": {},
   "outputs": [],
   "source": [
    "from tensorflow.keras.layers import Flatten, Activation\n",
    "from tensorflow.keras.models import Sequential\n",
    "from tensorflow.keras.layers import Dense\n",
    "import tensorflow.keras.backend as K\n",
    "from tensorflow.keras.layers import Conv2D\n",
    "from tensorflow.keras.layers import MaxPool2D, AvgPool2D"
   ]
  },
  {
   "cell_type": "code",
   "execution_count": 20,
   "id": "a12aacdd",
   "metadata": {},
   "outputs": [],
   "source": [
    "patient_ids = np.array(patient_ids)"
   ]
  },
  {
   "cell_type": "code",
   "execution_count": 52,
   "id": "86f4392c",
   "metadata": {},
   "outputs": [],
   "source": [
    "t = np.array(plv_matrices_list)"
   ]
  },
  {
   "cell_type": "code",
   "execution_count": 53,
   "id": "ee3b8b51",
   "metadata": {},
   "outputs": [
    {
     "data": {
      "text/plain": [
       "(6965, 12, 12)"
      ]
     },
     "execution_count": 53,
     "metadata": {},
     "output_type": "execute_result"
    }
   ],
   "source": [
    "t.shape"
   ]
  },
  {
   "cell_type": "code",
   "execution_count": 55,
   "id": "8aa8f5ad",
   "metadata": {},
   "outputs": [
    {
     "name": "stdout",
     "output_type": "stream",
     "text": [
      "Epoch 1/20\n",
      "262/262 [==============================] - 1s 2ms/step - loss: 0.4032 - accuracy: 0.8192 - val_loss: 0.4621 - val_accuracy: 0.8212\n",
      "Epoch 2/20\n",
      "262/262 [==============================] - 0s 1ms/step - loss: 0.3292 - accuracy: 0.8614 - val_loss: 0.4359 - val_accuracy: 0.8342\n",
      "Epoch 3/20\n",
      "262/262 [==============================] - 0s 1ms/step - loss: 0.3013 - accuracy: 0.8700 - val_loss: 0.4757 - val_accuracy: 0.7559\n",
      "Epoch 4/20\n",
      "262/262 [==============================] - 0s 1ms/step - loss: 0.2846 - accuracy: 0.8844 - val_loss: 0.3974 - val_accuracy: 0.8349\n",
      "Epoch 5/20\n",
      "262/262 [==============================] - 0s 1ms/step - loss: 0.2640 - accuracy: 0.8939 - val_loss: 0.3730 - val_accuracy: 0.8464\n",
      "Epoch 6/20\n",
      "262/262 [==============================] - 0s 1ms/step - loss: 0.2428 - accuracy: 0.9006 - val_loss: 0.3628 - val_accuracy: 0.8536\n",
      "Epoch 7/20\n",
      "262/262 [==============================] - 0s 1ms/step - loss: 0.2289 - accuracy: 0.9088 - val_loss: 0.3452 - val_accuracy: 0.8550\n",
      "Epoch 8/20\n",
      "262/262 [==============================] - 0s 1ms/step - loss: 0.2106 - accuracy: 0.9138 - val_loss: 0.3691 - val_accuracy: 0.8557\n",
      "Epoch 9/20\n",
      "262/262 [==============================] - 0s 1ms/step - loss: 0.1971 - accuracy: 0.9150 - val_loss: 0.4545 - val_accuracy: 0.8593\n",
      "Epoch 10/20\n",
      "262/262 [==============================] - 0s 1ms/step - loss: 0.1819 - accuracy: 0.9294 - val_loss: 0.3763 - val_accuracy: 0.8507\n",
      "Epoch 11/20\n",
      "262/262 [==============================] - 0s 2ms/step - loss: 0.1642 - accuracy: 0.9344 - val_loss: 0.4345 - val_accuracy: 0.8528\n",
      "Epoch 12/20\n",
      "262/262 [==============================] - 0s 1ms/step - loss: 0.1478 - accuracy: 0.9425 - val_loss: 0.4776 - val_accuracy: 0.8600\n",
      "Epoch 13/20\n",
      "262/262 [==============================] - 0s 1ms/step - loss: 0.1363 - accuracy: 0.9478 - val_loss: 0.4365 - val_accuracy: 0.8536\n",
      "Epoch 14/20\n",
      "262/262 [==============================] - 0s 1ms/step - loss: 0.1198 - accuracy: 0.9569 - val_loss: 0.5874 - val_accuracy: 0.8313\n",
      "Epoch 15/20\n",
      "262/262 [==============================] - 0s 1ms/step - loss: 0.1085 - accuracy: 0.9605 - val_loss: 0.5540 - val_accuracy: 0.8363\n",
      "Epoch 16/20\n",
      "262/262 [==============================] - 0s 1ms/step - loss: 0.0983 - accuracy: 0.9653 - val_loss: 0.4755 - val_accuracy: 0.8557\n",
      "Epoch 17/20\n",
      "262/262 [==============================] - 0s 1ms/step - loss: 0.0823 - accuracy: 0.9701 - val_loss: 0.5196 - val_accuracy: 0.8485\n",
      "Epoch 18/20\n",
      "262/262 [==============================] - 0s 1ms/step - loss: 0.0689 - accuracy: 0.9756 - val_loss: 0.6153 - val_accuracy: 0.8492\n",
      "Epoch 19/20\n",
      "262/262 [==============================] - 0s 1ms/step - loss: 0.0632 - accuracy: 0.9785 - val_loss: 0.6009 - val_accuracy: 0.8536\n",
      "Epoch 20/20\n",
      "262/262 [==============================] - 0s 1ms/step - loss: 0.0507 - accuracy: 0.9830 - val_loss: 0.6237 - val_accuracy: 0.8356\n",
      "44/44 [==============================] - 0s 728us/step\n",
      "[[ 57  25]\n",
      " [  5 192]]\n",
      "Accuracy: 0.8924731182795699\n",
      "Sensitivity: 0.9746192893401016\n",
      "Specificity: 0.6951219512195121\n",
      "Epoch 1/20\n",
      "262/262 [==============================] - 1s 2ms/step - loss: 0.4278 - accuracy: 0.8082 - val_loss: 0.4361 - val_accuracy: 0.8234\n",
      "Epoch 2/20\n",
      "262/262 [==============================] - 0s 1ms/step - loss: 0.3247 - accuracy: 0.8616 - val_loss: 0.3939 - val_accuracy: 0.8191\n",
      "Epoch 3/20\n",
      "262/262 [==============================] - 0s 1ms/step - loss: 0.2960 - accuracy: 0.8746 - val_loss: 0.3941 - val_accuracy: 0.8385\n",
      "Epoch 4/20\n",
      "262/262 [==============================] - 0s 1ms/step - loss: 0.2774 - accuracy: 0.8808 - val_loss: 0.4268 - val_accuracy: 0.8356\n",
      "Epoch 5/20\n",
      "262/262 [==============================] - 0s 1ms/step - loss: 0.2602 - accuracy: 0.8889 - val_loss: 0.3607 - val_accuracy: 0.8579\n",
      "Epoch 6/20\n",
      "262/262 [==============================] - 0s 2ms/step - loss: 0.2442 - accuracy: 0.8987 - val_loss: 0.3585 - val_accuracy: 0.8442\n",
      "Epoch 7/20\n",
      "262/262 [==============================] - 0s 1ms/step - loss: 0.2275 - accuracy: 0.9038 - val_loss: 0.3638 - val_accuracy: 0.8500\n",
      "Epoch 8/20\n",
      "262/262 [==============================] - 0s 1ms/step - loss: 0.2101 - accuracy: 0.9160 - val_loss: 0.3575 - val_accuracy: 0.8521\n",
      "Epoch 9/20\n",
      "262/262 [==============================] - 0s 1ms/step - loss: 0.1945 - accuracy: 0.9203 - val_loss: 0.3839 - val_accuracy: 0.8536\n",
      "Epoch 10/20\n",
      "262/262 [==============================] - 0s 1ms/step - loss: 0.1713 - accuracy: 0.9306 - val_loss: 0.4764 - val_accuracy: 0.8141\n",
      "Epoch 11/20\n",
      "262/262 [==============================] - 0s 1ms/step - loss: 0.1590 - accuracy: 0.9363 - val_loss: 0.4405 - val_accuracy: 0.8356\n",
      "Epoch 12/20\n",
      "262/262 [==============================] - 0s 2ms/step - loss: 0.1450 - accuracy: 0.9418 - val_loss: 0.4353 - val_accuracy: 0.8543\n",
      "Epoch 13/20\n",
      "262/262 [==============================] - 0s 1ms/step - loss: 0.1242 - accuracy: 0.9540 - val_loss: 0.4574 - val_accuracy: 0.8593\n",
      "Epoch 14/20\n",
      "262/262 [==============================] - 0s 1ms/step - loss: 0.1091 - accuracy: 0.9583 - val_loss: 0.4608 - val_accuracy: 0.8500\n",
      "Epoch 15/20\n",
      "262/262 [==============================] - 0s 1ms/step - loss: 0.0968 - accuracy: 0.9648 - val_loss: 0.5718 - val_accuracy: 0.8406\n",
      "Epoch 16/20\n",
      "262/262 [==============================] - 0s 1ms/step - loss: 0.0874 - accuracy: 0.9674 - val_loss: 0.5128 - val_accuracy: 0.8428\n",
      "Epoch 17/20\n",
      "262/262 [==============================] - 0s 2ms/step - loss: 0.0718 - accuracy: 0.9756 - val_loss: 0.5487 - val_accuracy: 0.8356\n",
      "Epoch 18/20\n",
      "262/262 [==============================] - 0s 1ms/step - loss: 0.0645 - accuracy: 0.9763 - val_loss: 0.6032 - val_accuracy: 0.8435\n",
      "Epoch 19/20\n",
      "262/262 [==============================] - 0s 1ms/step - loss: 0.0535 - accuracy: 0.9818 - val_loss: 0.5959 - val_accuracy: 0.8428\n",
      "Epoch 20/20\n",
      "262/262 [==============================] - 0s 1ms/step - loss: 0.0427 - accuracy: 0.9854 - val_loss: 0.6389 - val_accuracy: 0.8449\n",
      "44/44 [==============================] - 0s 738us/step\n",
      "[[ 58  20]\n",
      " [ 16 185]]\n",
      "Accuracy: 0.8709677419354839\n",
      "Sensitivity: 0.9203980099502488\n",
      "Specificity: 0.7435897435897436\n",
      "Epoch 1/20\n",
      "262/262 [==============================] - 1s 2ms/step - loss: 0.3887 - accuracy: 0.8250 - val_loss: 0.5192 - val_accuracy: 0.7330\n",
      "Epoch 2/20\n",
      "262/262 [==============================] - 0s 1ms/step - loss: 0.3216 - accuracy: 0.8643 - val_loss: 0.4087 - val_accuracy: 0.8464\n",
      "Epoch 3/20\n",
      "262/262 [==============================] - 0s 1ms/step - loss: 0.3023 - accuracy: 0.8714 - val_loss: 0.3611 - val_accuracy: 0.8428\n",
      "Epoch 4/20\n",
      "262/262 [==============================] - 0s 1ms/step - loss: 0.2836 - accuracy: 0.8793 - val_loss: 0.3765 - val_accuracy: 0.8457\n",
      "Epoch 5/20\n",
      "262/262 [==============================] - 0s 2ms/step - loss: 0.2689 - accuracy: 0.8836 - val_loss: 0.3611 - val_accuracy: 0.8421\n",
      "Epoch 6/20\n",
      "262/262 [==============================] - 0s 1ms/step - loss: 0.2520 - accuracy: 0.8942 - val_loss: 0.3563 - val_accuracy: 0.8471\n",
      "Epoch 7/20\n",
      "262/262 [==============================] - 0s 1ms/step - loss: 0.2371 - accuracy: 0.9011 - val_loss: 0.4459 - val_accuracy: 0.8435\n",
      "Epoch 8/20\n",
      "262/262 [==============================] - 0s 1ms/step - loss: 0.2247 - accuracy: 0.9047 - val_loss: 0.3652 - val_accuracy: 0.8622\n",
      "Epoch 9/20\n",
      "262/262 [==============================] - 0s 1ms/step - loss: 0.2070 - accuracy: 0.9124 - val_loss: 0.3826 - val_accuracy: 0.8500\n",
      "Epoch 10/20\n",
      "262/262 [==============================] - 0s 1ms/step - loss: 0.1949 - accuracy: 0.9179 - val_loss: 0.3846 - val_accuracy: 0.8212\n",
      "Epoch 11/20\n",
      "262/262 [==============================] - 0s 1ms/step - loss: 0.1769 - accuracy: 0.9299 - val_loss: 0.3894 - val_accuracy: 0.8658\n",
      "Epoch 12/20\n",
      "262/262 [==============================] - 0s 1ms/step - loss: 0.1641 - accuracy: 0.9370 - val_loss: 0.4114 - val_accuracy: 0.8356\n",
      "Epoch 13/20\n",
      "262/262 [==============================] - 0s 1ms/step - loss: 0.1506 - accuracy: 0.9421 - val_loss: 0.4184 - val_accuracy: 0.8650\n",
      "Epoch 14/20\n",
      "262/262 [==============================] - 0s 1ms/step - loss: 0.1369 - accuracy: 0.9461 - val_loss: 0.4587 - val_accuracy: 0.8528\n",
      "Epoch 15/20\n",
      "262/262 [==============================] - 0s 1ms/step - loss: 0.1222 - accuracy: 0.9548 - val_loss: 0.4354 - val_accuracy: 0.8464\n",
      "Epoch 16/20\n"
     ]
    },
    {
     "name": "stdout",
     "output_type": "stream",
     "text": [
      "262/262 [==============================] - 0s 1ms/step - loss: 0.1084 - accuracy: 0.9579 - val_loss: 0.5337 - val_accuracy: 0.8212\n",
      "Epoch 17/20\n",
      "262/262 [==============================] - 0s 1ms/step - loss: 0.0978 - accuracy: 0.9650 - val_loss: 0.5151 - val_accuracy: 0.8392\n",
      "Epoch 18/20\n",
      "262/262 [==============================] - 0s 1ms/step - loss: 0.0851 - accuracy: 0.9713 - val_loss: 0.5740 - val_accuracy: 0.8507\n",
      "Epoch 19/20\n",
      "262/262 [==============================] - 0s 1ms/step - loss: 0.0748 - accuracy: 0.9729 - val_loss: 0.5763 - val_accuracy: 0.8457\n",
      "Epoch 20/20\n",
      "262/262 [==============================] - 0s 1ms/step - loss: 0.0665 - accuracy: 0.9792 - val_loss: 0.6363 - val_accuracy: 0.8471\n",
      "44/44 [==============================] - 0s 731us/step\n",
      "[[ 70  15]\n",
      " [  8 186]]\n",
      "Accuracy: 0.9175627240143369\n",
      "Sensitivity: 0.9587628865979382\n",
      "Specificity: 0.8235294117647058\n",
      "Epoch 1/20\n",
      "262/262 [==============================] - 1s 2ms/step - loss: 0.4058 - accuracy: 0.8127 - val_loss: 0.3942 - val_accuracy: 0.8307\n",
      "Epoch 2/20\n",
      "262/262 [==============================] - 0s 1ms/step - loss: 0.3289 - accuracy: 0.8606 - val_loss: 0.3772 - val_accuracy: 0.8307\n",
      "Epoch 3/20\n",
      "262/262 [==============================] - 0s 1ms/step - loss: 0.3041 - accuracy: 0.8761 - val_loss: 0.3771 - val_accuracy: 0.8293\n",
      "Epoch 4/20\n",
      "262/262 [==============================] - 0s 1ms/step - loss: 0.2870 - accuracy: 0.8787 - val_loss: 0.3843 - val_accuracy: 0.8336\n",
      "Epoch 5/20\n",
      "262/262 [==============================] - 0s 1ms/step - loss: 0.2728 - accuracy: 0.8857 - val_loss: 0.3878 - val_accuracy: 0.8393\n",
      "Epoch 6/20\n",
      "262/262 [==============================] - 0s 1ms/step - loss: 0.2574 - accuracy: 0.8919 - val_loss: 0.3916 - val_accuracy: 0.8429\n",
      "Epoch 7/20\n",
      "262/262 [==============================] - 0s 1ms/step - loss: 0.2433 - accuracy: 0.8979 - val_loss: 0.3773 - val_accuracy: 0.8458\n",
      "Epoch 8/20\n",
      "262/262 [==============================] - 0s 1ms/step - loss: 0.2295 - accuracy: 0.9022 - val_loss: 0.3825 - val_accuracy: 0.8393\n",
      "Epoch 9/20\n",
      "262/262 [==============================] - 0s 1ms/step - loss: 0.2148 - accuracy: 0.9096 - val_loss: 0.3870 - val_accuracy: 0.8451\n",
      "Epoch 10/20\n",
      "262/262 [==============================] - 0s 1ms/step - loss: 0.2009 - accuracy: 0.9160 - val_loss: 0.4719 - val_accuracy: 0.8451\n",
      "Epoch 11/20\n",
      "262/262 [==============================] - 0s 1ms/step - loss: 0.1874 - accuracy: 0.9225 - val_loss: 0.3989 - val_accuracy: 0.8472\n",
      "Epoch 12/20\n",
      "262/262 [==============================] - 0s 1ms/step - loss: 0.1714 - accuracy: 0.9326 - val_loss: 0.4092 - val_accuracy: 0.8472\n",
      "Epoch 13/20\n",
      "262/262 [==============================] - 0s 2ms/step - loss: 0.1585 - accuracy: 0.9381 - val_loss: 0.4045 - val_accuracy: 0.8587\n",
      "Epoch 14/20\n",
      "262/262 [==============================] - 0s 1ms/step - loss: 0.1434 - accuracy: 0.9436 - val_loss: 0.4468 - val_accuracy: 0.8400\n",
      "Epoch 15/20\n",
      "262/262 [==============================] - 0s 1ms/step - loss: 0.1291 - accuracy: 0.9495 - val_loss: 0.4482 - val_accuracy: 0.8558\n",
      "Epoch 16/20\n",
      "262/262 [==============================] - 0s 1ms/step - loss: 0.1142 - accuracy: 0.9562 - val_loss: 0.4939 - val_accuracy: 0.8501\n",
      "Epoch 17/20\n",
      "262/262 [==============================] - 0s 1ms/step - loss: 0.0977 - accuracy: 0.9639 - val_loss: 0.5527 - val_accuracy: 0.8343\n",
      "Epoch 18/20\n",
      "262/262 [==============================] - 0s 1ms/step - loss: 0.0883 - accuracy: 0.9699 - val_loss: 0.5531 - val_accuracy: 0.8565\n",
      "Epoch 19/20\n",
      "262/262 [==============================] - 0s 2ms/step - loss: 0.0770 - accuracy: 0.9730 - val_loss: 0.5440 - val_accuracy: 0.8379\n",
      "Epoch 20/20\n",
      "262/262 [==============================] - 0s 1ms/step - loss: 0.0652 - accuracy: 0.9785 - val_loss: 0.6564 - val_accuracy: 0.8264\n",
      "44/44 [==============================] - 0s 749us/step\n",
      "[[ 60  14]\n",
      " [ 26 178]]\n",
      "Accuracy: 0.8561151079136691\n",
      "Sensitivity: 0.8725490196078431\n",
      "Specificity: 0.8108108108108109\n",
      "Epoch 1/20\n",
      "262/262 [==============================] - 1s 2ms/step - loss: 0.3890 - accuracy: 0.8278 - val_loss: 0.4119 - val_accuracy: 0.8063\n",
      "Epoch 2/20\n",
      "262/262 [==============================] - 0s 1ms/step - loss: 0.3081 - accuracy: 0.8692 - val_loss: 0.4097 - val_accuracy: 0.8422\n",
      "Epoch 3/20\n",
      "262/262 [==============================] - 0s 1ms/step - loss: 0.2869 - accuracy: 0.8740 - val_loss: 0.3742 - val_accuracy: 0.8364\n",
      "Epoch 4/20\n",
      "262/262 [==============================] - 0s 1ms/step - loss: 0.2676 - accuracy: 0.8885 - val_loss: 0.3845 - val_accuracy: 0.8436\n",
      "Epoch 5/20\n",
      "262/262 [==============================] - 0s 2ms/step - loss: 0.2524 - accuracy: 0.8931 - val_loss: 0.3697 - val_accuracy: 0.8515\n",
      "Epoch 6/20\n",
      "262/262 [==============================] - 0s 1ms/step - loss: 0.2329 - accuracy: 0.9036 - val_loss: 0.3956 - val_accuracy: 0.8443\n",
      "Epoch 7/20\n",
      "262/262 [==============================] - 0s 2ms/step - loss: 0.2205 - accuracy: 0.9086 - val_loss: 0.3838 - val_accuracy: 0.8522\n",
      "Epoch 8/20\n",
      "262/262 [==============================] - 0s 1ms/step - loss: 0.2019 - accuracy: 0.9213 - val_loss: 0.4133 - val_accuracy: 0.8465\n",
      "Epoch 9/20\n",
      "262/262 [==============================] - 0s 1ms/step - loss: 0.1864 - accuracy: 0.9223 - val_loss: 0.4315 - val_accuracy: 0.8422\n",
      "Epoch 10/20\n",
      "262/262 [==============================] - 0s 1ms/step - loss: 0.1678 - accuracy: 0.9347 - val_loss: 0.4390 - val_accuracy: 0.8379\n",
      "Epoch 11/20\n",
      "262/262 [==============================] - 0s 1ms/step - loss: 0.1533 - accuracy: 0.9407 - val_loss: 0.4584 - val_accuracy: 0.8286\n",
      "Epoch 12/20\n",
      "262/262 [==============================] - 0s 1ms/step - loss: 0.1418 - accuracy: 0.9464 - val_loss: 0.4422 - val_accuracy: 0.8407\n",
      "Epoch 13/20\n",
      "262/262 [==============================] - 0s 1ms/step - loss: 0.1253 - accuracy: 0.9500 - val_loss: 0.4668 - val_accuracy: 0.8372\n",
      "Epoch 14/20\n",
      "262/262 [==============================] - 0s 1ms/step - loss: 0.1122 - accuracy: 0.9581 - val_loss: 0.4832 - val_accuracy: 0.8429\n",
      "Epoch 15/20\n",
      "262/262 [==============================] - 0s 1ms/step - loss: 0.0959 - accuracy: 0.9639 - val_loss: 0.5340 - val_accuracy: 0.8422\n",
      "Epoch 16/20\n",
      "262/262 [==============================] - 0s 1ms/step - loss: 0.0850 - accuracy: 0.9694 - val_loss: 0.5975 - val_accuracy: 0.8400\n",
      "Epoch 17/20\n",
      "262/262 [==============================] - 0s 1ms/step - loss: 0.0717 - accuracy: 0.9730 - val_loss: 0.5968 - val_accuracy: 0.8407\n",
      "Epoch 18/20\n",
      "262/262 [==============================] - 0s 1ms/step - loss: 0.0606 - accuracy: 0.9787 - val_loss: 0.5869 - val_accuracy: 0.8336\n",
      "Epoch 19/20\n",
      "262/262 [==============================] - 0s 1ms/step - loss: 0.0542 - accuracy: 0.9811 - val_loss: 0.7284 - val_accuracy: 0.8451\n",
      "Epoch 20/20\n",
      "262/262 [==============================] - 0s 1ms/step - loss: 0.0432 - accuracy: 0.9849 - val_loss: 0.7090 - val_accuracy: 0.8336\n",
      "44/44 [==============================] - 0s 746us/step\n",
      "[[ 39  35]\n",
      " [  4 200]]\n",
      "Accuracy: 0.8597122302158273\n",
      "Sensitivity: 0.9803921568627451\n",
      "Specificity: 0.527027027027027\n",
      "Average Accuracy: 0.8793661844717775\n",
      "Average Sensitivity: 0.9413442724717754\n",
      "Average Specificity: 0.7200157888823598\n"
     ]
    }
   ],
   "source": [
    "# Group-k-fold\n",
    "\n",
    "from sklearn.metrics import accuracy_score\n",
    "from sklearn.model_selection import GroupKFold\n",
    "from sklearn.metrics import confusion_matrix\n",
    "from sklearn.model_selection import GroupKFold\n",
    "import tensorflow as tf\n",
    "\n",
    "gkf = GroupKFold(n_splits=5)\n",
    "\n",
    "sum_accuracy = 0\n",
    "sum_sensitivity = 0\n",
    "sum_specificity = 0\n",
    "\n",
    "for train_idx, test_idx in gkf.split(t, y_data, groups=patient_ids):\n",
    "    X_train, X_test = t[train_idx], t[test_idx]\n",
    "    y_train, y_test = y_data[train_idx], y_data[test_idx]\n",
    "\n",
    "    K.clear_session()\n",
    "\n",
    "\n",
    "    model = Sequential()\n",
    "\n",
    "    model.add(Conv2D(10, (3, 3), input_shape=(12, 12, 1)))\n",
    "    model.add(MaxPool2D(pool_size=(2, 2)))\n",
    "    model.add(Flatten())\n",
    "\n",
    "    model.add(Dense(256, activation='relu'))\n",
    "    model.add(Dense(10, activation='relu'))\n",
    "    model.add(Dense(1, activation='sigmoid'))\n",
    "\n",
    "    model.compile(loss='BinaryCrossentropy',\n",
    "                  optimizer='rmsprop',\n",
    "                  metrics=['accuracy'])\n",
    "\n",
    "    history = model.fit(X_train, y_train,\n",
    "                    batch_size=16,\n",
    "                    epochs=20,\n",
    "                    verbose=1, \n",
    "                    validation_split=0.25)\n",
    "    \n",
    "    predictions = model.predict(X_test)\n",
    "    y_pred = np.round(predictions).astype(int).transpose()\n",
    "    y_pred = y_pred[0]\n",
    "\n",
    "    y_pred_majority = []\n",
    "    for patient_idx in np.unique(patient_ids[test_idx]):\n",
    "        segment_predictions = y_pred[patient_ids[test_idx] == patient_idx]\n",
    "        majority_vote = np.bincount(segment_predictions).argmax()\n",
    "        y_pred_majority.append(majority_vote)\n",
    "\n",
    "    y_test_majority = []\n",
    "    for patient_idx in np.unique(patient_ids[test_idx]):\n",
    "        segment_predictions = y_test[patient_ids[test_idx] == patient_idx]\n",
    "        majority_vote = np.bincount(segment_predictions).argmax()\n",
    "        y_test_majority.append(majority_vote)\n",
    "\n",
    "    accuracy = accuracy_score(y_test_majority, y_pred_majority)\n",
    "    sum_accuracy += accuracy\n",
    "    # Calculate confusion matrix\n",
    "    tn, fp, fn, tp = confusion_matrix(y_test_majority, y_pred_majority).ravel()\n",
    "\n",
    "    # Calculate sensitivity and specificity\n",
    "    sensitivity = tp / (tp + fn)\n",
    "    specificity = tn / (tn + fp)\n",
    "\n",
    "    sum_sensitivity += sensitivity\n",
    "    sum_specificity += specificity\n",
    "\n",
    "    print(confusion_matrix(y_test_majority, y_pred_majority))\n",
    "    print(\"Accuracy:\", accuracy)\n",
    "    print(\"Sensitivity:\", sensitivity)\n",
    "    print(\"Specificity:\", specificity)\n",
    "\n",
    "average_accuracy = sum_accuracy / 5\n",
    "average_sensitivity = sum_sensitivity / 5\n",
    "average_specificity = sum_specificity / 5\n",
    "\n",
    "print(\"Average Accuracy:\", average_accuracy)\n",
    "print(\"Average Sensitivity:\", average_sensitivity)\n",
    "print(\"Average Specificity:\", average_specificity)\n"
   ]
  },
  {
   "cell_type": "code",
   "execution_count": null,
   "id": "b48364b5",
   "metadata": {},
   "outputs": [],
   "source": []
  }
 ],
 "metadata": {
  "kernelspec": {
   "display_name": "Python 3 (ipykernel)",
   "language": "python",
   "name": "python3"
  },
  "language_info": {
   "codemirror_mode": {
    "name": "ipython",
    "version": 3
   },
   "file_extension": ".py",
   "mimetype": "text/x-python",
   "name": "python",
   "nbconvert_exporter": "python",
   "pygments_lexer": "ipython3",
   "version": "3.10.9"
  }
 },
 "nbformat": 4,
 "nbformat_minor": 5
}
